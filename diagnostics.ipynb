{
 "cells": [
  {
   "cell_type": "code",
   "execution_count": null,
   "metadata": {},
   "outputs": [],
   "source": [
    "import os\n",
    "import numpy as np\n",
    "import pandas as pd\n",
    "import matplotlib.backends.backend_pdf as backend_pdf\n",
    "import matplotlib.pyplot as plt\n",
    "import arviz\n",
    "import seaborn as sns\n",
    "from ete3 import Tree\n",
    "import argparse\n",
    "import arviz as az\n",
    "import gc\n"
   ]
  },
  {
   "cell_type": "markdown",
   "metadata": {},
   "source": [
    "# Diagnostics notebook"
   ]
  },
  {
   "cell_type": "code",
   "execution_count": null,
   "metadata": {},
   "outputs": [],
   "source": [
    "#  this will be read in as variable from the script.. \n",
    "MCMC_iter = 6000\n",
    "burnin = 2000\n",
    "nthin = 1 # see from script/running conditions, not used for plotting\n",
    "folder_runs = '_sim-30-leaves/runs_v2/78241558624040307/'#'_sim-30-leaves/runs_v2/15287225176595236/'\n",
    "folder_simdata = '_sim-30-leaves/simdata/78241558624040307/' #'BM9/simdata/3513656273068705/' #args.folder_simdata +'/'\n",
    "nnodes = 59\n",
    "nxd=40\n",
    "levelorder_tree = 'levelorder_chazot_full_tree.nw'\n",
    "pars_name = ['kalpha', 'gtheta']\n",
    "rep_path = len(pars_name)+1\n",
    "chains = os.listdir(folder_runs) # use all chains in data seed folder \n",
    "chains = [c for c in chains if c[0] not in ['_', '.']] # remove files starting with underscore\n",
    "print(chains)\n",
    "temp_name = ['' for i in range(len(chains))]\n"
   ]
  },
  {
   "cell_type": "code",
   "execution_count": null,
   "metadata": {},
   "outputs": [],
   "source": [
    "# read in data and MCMC chains\n",
    "raw_trees = [np.genfromtxt(folder_runs + chains[i]+'/'+temp_name[i]+\"tree_nodes.csv\", delimiter = \",\") for i in range(len(chains))]\n",
    "tree_counters = [np.genfromtxt(folder_runs + chains[i]+'/'+temp_name[i]+\"tree_counter.csv\", delimiter = \",\").astype(int) for i in range(len(chains))]\n",
    "flat_trees_raw = [raw_trees[i].reshape(len(tree_counters[i]),nnodes,nxd) for i in range(len(raw_trees))]\n",
    "flat_true_tree = np.genfromtxt(folder_simdata+\"flat_true_tree.csv\", delimiter = \",\")\n",
    "super_root = [np.genfromtxt(folder_runs + chains[i]+'/'+temp_name[i]+\"inference_root_start.csv\", delimiter = \",\") for i in range(len(chains))]\n",
    "_super_root = [np.concatenate((super_root[i], super_root[i][0:2])) for i in range(len(chains))]\n",
    "_super_root = np.unique(np.array(_super_root), axis=0)\n",
    "\n",
    "\n",
    "# In[12]:\n",
    "flat_trees = np.array([np.repeat(flat_trees_raw[i], tree_counters[i], axis=0)[burnin*rep_path:(MCMC_iter//nthin)*rep_path] for i in range(len(flat_trees_raw))])\n",
    "flat_trees.shape"
   ]
  },
  {
   "cell_type": "code",
   "execution_count": null,
   "metadata": {},
   "outputs": [],
   "source": [
    "# create output folder\n",
    "outputfolder = folder_runs\n",
    "path = outputfolder+'_*'+'-'.join(chains)\n",
    "if not os.path.isdir(path): \n",
    "    os.mkdir(path)\n",
    "    os.mkdir(path+'/stats')\n",
    "\n",
    "\n",
    "# get levelorder tree \n",
    "levelorder_tree = Tree(levelorder_tree)\n",
    "leafidx = []\n",
    "for leaf in levelorder_tree:\n",
    "    leafidx.append(leaf.name)\n",
    "print(leafidx)\n",
    "\n",
    "# get innernode idx \n",
    "# nnodes: small tree = 9, large tree = 59\n",
    "leafidxint = [int(leafidx[i]) for i in range(len(leafidx))]\n",
    "nodes = list(range(nnodes))\n",
    "inneridx = list(set(nodes)-set(leafidxint))\n"
   ]
  },
  {
   "cell_type": "markdown",
   "metadata": {},
   "source": [
    "## Evaluate statistics for paths "
   ]
  },
  {
   "cell_type": "code",
   "execution_count": null,
   "metadata": {},
   "outputs": [],
   "source": [
    "# EVALUATE STATISTICS FOR PLOTTING\n",
    "ft_=flat_trees.reshape(-1, nnodes, nxd)\n",
    "mean_est = np.mean(ft_, axis=0)\n",
    "median_est = np.median(ft_, axis=0)\n",
    "#mode_est = mode(ft_, axis=0)[0]\n",
    "\n",
    "# evaluate MSEs\n",
    "squared_error_mean = (flat_true_tree-mean_est)**2\n",
    "squared_error_median = (flat_true_tree-median_est)**2\n",
    "#squared_error_mode = (flat_true_tree-mode_est)**2\n",
    "\n",
    "# evaluate bias \n",
    "bias_mean = (flat_true_tree-mean_est)\n",
    "bias_median = (flat_true_tree-median_est)\n",
    "#bias_mode = (flat_true_tree-mode_est)\n",
    "\n",
    "# save statistics for final plots\n",
    "#np.savetxt(path+'/'+f\"squared_error_mean.csv\",squared_error_mean, delimiter=\",\")\n",
    "#np.savetxt(path+'/'+\"squared_error_median.csv\",squared_error_median, delimiter=\",\")\n",
    "#np.savetxt(path+'/'+\"squared_error_mode.csv\",squared_error_mode, delimiter=\",\")\n",
    "#np.savetxt(path+'/'+\"bias_mean.csv\",bias_mean, delimiter=\",\")\n",
    "#np.savetxt(path+'/'+\"bias_median.csv\",bias_median, delimiter=\",\")\n",
    "#np.savetxt(path+'/'+\"bias_mode.csv\",bias_mode, delimiter=\",\")"
   ]
  },
  {
   "cell_type": "markdown",
   "metadata": {},
   "source": [
    "## Gelman-Rubin convergence diagnostics"
   ]
  },
  {
   "cell_type": "code",
   "execution_count": null,
   "metadata": {},
   "outputs": [],
   "source": [
    "\n",
    "# get rhat and ESS for all nodes and dimensions\n",
    "rhats = []\n",
    "esss = []\n",
    "for idx in range(flat_trees.shape[2]):  # calculate for all nodes \n",
    "    innernodes = flat_trees[:,:,idx, :]\n",
    "    keys = list(range(innernodes.shape[2]))\n",
    "    MCMCres = arviz.convert_to_dataset({k:innernodes[:,:,i] for i,k in enumerate(keys)})\n",
    "    rhats.append(arviz.rhat(MCMCres).to_array().to_numpy())\n",
    "    esss.append(arviz.ess(MCMCres).to_array().to_numpy())\n",
    "\n",
    "# save rhat for plotting\n",
    "np.savetxt(path+'/stats/'+\"rhats_paths.csv\",np.array(rhats), delimiter=\",\")"
   ]
  },
  {
   "cell_type": "markdown",
   "metadata": {},
   "source": [
    "## Define plotting functions "
   ]
  },
  {
   "cell_type": "code",
   "execution_count": null,
   "metadata": {},
   "outputs": [],
   "source": [
    "def plot_traces_tree(flat_true_tree, flat_trees, inneridx, ess, rhats, outpath = path + f'/trace-innernodes_burnin={burnin}_MCMCiter={MCMC_iter}.pdf'): \n",
    "    colors = sns.color_palette('pastel', flat_trees.shape[0])\n",
    "    print(outpath)\n",
    "    pdf = backend_pdf.PdfPages(outpath)\n",
    "    plt.figure(1)\n",
    "    for idx in inneridx: # loop over innernodes\n",
    "        fig, axes = plt.subplots(nrows=7, ncols=6, figsize=(25,15), sharex=True)\n",
    "        for j in range(flat_trees.shape[0]): # loop over chains\n",
    "            innernode = flat_trees[j,:,idx, :]\n",
    "            true_innernode = flat_true_tree[idx,:]\n",
    "            curcol = colors[j]\n",
    "            for i, ax in zip(range(innernode.shape[1]), axes.flat): # loop over dimensions\n",
    "                ax.plot(innernode[:,i], color = curcol, alpha=0.5)\n",
    "                ax.hlines(y=true_innernode[i], xmin=0, xmax=innernode.shape[0], color='skyblue')\n",
    "                cur_ess = ess[idx][i]\n",
    "                cur_rhat = rhats[idx][i]\n",
    "                ax.set_title(f'{i}, Rhat={round(cur_rhat,2)}, ESS: {round(cur_ess,2)}')\n",
    "        fig.suptitle(f'Node {idx}', size=40)\n",
    "        pdf.savefig()\n",
    "        plt.clf()\n",
    "    pdf.close();"
   ]
  },
  {
   "cell_type": "code",
   "execution_count": null,
   "metadata": {},
   "outputs": [],
   "source": [
    "def summary_rhat(rhats, inneridx, outpath):\n",
    "    # plot summary of Rhat values \n",
    "    n_nodes = len(inneridx)\n",
    "    print(n_nodes)\n",
    "    # Determine the grid size\n",
    "    grid_size = int(np.ceil(np.sqrt(n_nodes)))\n",
    "\n",
    "    # Create subplots\n",
    "    fig, axes = plt.subplots(grid_size, grid_size, figsize=(20, 20), sharex=True, sharey=True)\n",
    "    fig.suptitle(r'$\\hat{R}$ for all innernodes')\n",
    "\n",
    "    # Flatten the axes array for easy iteration\n",
    "    axes = axes.flatten()\n",
    "\n",
    "    # Create a scatter plot for each k\n",
    "    for i in range(n_nodes):\n",
    "        sns.violinplot(rhats[inneridx[i]], ax=axes[i])\n",
    "        axes[i].hlines(y=1.1, xmin=-0.5, xmax=0.5, color='red', linestyle='--')\n",
    "        axes[i].set_title(f'Node={list(inneridx)[i]}')\n",
    "\n",
    "    # Hide any unused subplots\n",
    "    for j in range(n_nodes, grid_size * grid_size):\n",
    "        fig.delaxes(axes[j])\n",
    "\n",
    "    plt.tight_layout()\n",
    "    plt.savefig(outpath)\n",
    "    fig.subplots_adjust(top=0.95)\n",
    "    plt.show()\n",
    "    plt.close()\n",
    "    gc.collect()"
   ]
  },
  {
   "cell_type": "code",
   "execution_count": null,
   "metadata": {},
   "outputs": [],
   "source": [
    "def plot_posterior(flat_trees, inneridx, outpath, flat_true_tree=False, sample_n=50):\n",
    "    # plot summary of Rhat values \n",
    "    n_nodes = len(inneridx)\n",
    "    # Determine the grid size\n",
    "    grid_size = int(np.ceil(np.sqrt(n_nodes)))\n",
    "    # Create subplots\n",
    "    fig, axes = plt.subplots(grid_size, grid_size, figsize=(20, 20), sharex=True, sharey=True)\n",
    "    fig.suptitle(f'Samples from posterior (every {sample_n}) for all innernodes', size=20)\n",
    "    # Flatten the axes array for easy iteration\n",
    "    axes = axes.flatten()\n",
    "\n",
    "    # Create a scatter plot for each k\n",
    "    for i in range(n_nodes):\n",
    "        idx = inneridx[i]\n",
    "        innernodes = flat_trees[:,:,idx,:].reshape(-1, nxd)[::sample_n,:]\n",
    "        inode = np.append(innernodes, innernodes[:,0:2],1)\n",
    "        for j in range(inode.shape[0]):\n",
    "            axes[i].plot(inode[j,::2], inode[j,1::2], '--.', color='steelblue', alpha=0.3)\n",
    "        if flat_true_tree is not False:\n",
    "            true_innernode = flat_true_tree[idx,:]\n",
    "            tinode = np.concatenate((true_innernode, true_innernode[0:2]))  \n",
    "            axes[i].plot(tinode[::2], tinode[1::2], '--.', color='black', label='True shape')\n",
    "        axes[i].set_title(f'Node {idx}', size=10);\n",
    "\n",
    "    # Hide any unused subplots\n",
    "    for j in range(n_nodes, grid_size * grid_size):\n",
    "        fig.delaxes(axes[j])\n",
    "\n",
    "    plt.tight_layout()\n",
    "    plt.savefig(outpath)\n",
    "    fig.subplots_adjust(top=0.95)\n",
    "    plt.show()\n",
    "    plt.close()\n",
    "    gc.collect()"
   ]
  },
  {
   "cell_type": "code",
   "execution_count": null,
   "metadata": {},
   "outputs": [],
   "source": [
    "def plot_leaves(flat_true_tree, leafidx, outpath):\n",
    "    # plot summary of Rhat values \n",
    "    n_nodes = len(leafidx)\n",
    "    # Determine the grid size\n",
    "    grid_size = int(np.ceil(np.sqrt(n_nodes)))\n",
    "    # Create subplots\n",
    "    fig, axes = plt.subplots(grid_size, grid_size, figsize=(20, 20), sharex=True, sharey=True)\n",
    "    fig.suptitle(f'Observed data (i.e. leaves)', size=20)\n",
    "    # Flatten the axes array for easy iteration\n",
    "    axes = axes.flatten()\n",
    "    root = flat_true_tree[0,:]\n",
    "    # Create a scatter plot for each k\n",
    "    for i in range(n_nodes):\n",
    "        idx = leafidx[i]\n",
    "        leaf = flat_true_tree[idx,:]\n",
    "        leafp = np.append(leaf, leaf[0:2],0)\n",
    "        axes[i].plot(leafp[::2], leafp[1::2], '--.', color='orange', lw=2)\n",
    "        #rootp = np.concatenate((root, root[0:2]))  \n",
    "        #axes[i].plot(rootp[::2], rootp[1::2], '--.', color='black', label='Root')\n",
    "        #axes[i].set_title(f'Node {idx}', size=10);\n",
    "\n",
    "    # Hide any unused subplots\n",
    "    for j in range(n_nodes, grid_size * grid_size):\n",
    "        fig.delaxes(axes[j])\n",
    "\n",
    "    plt.tight_layout()\n",
    "    plt.savefig(outpath)\n",
    "    fig.subplots_adjust(top=0.95)\n",
    "    plt.show()\n",
    "    plt.close()\n",
    "    gc.collect()"
   ]
  },
  {
   "cell_type": "code",
   "execution_count": null,
   "metadata": {},
   "outputs": [],
   "source": [
    "def get_mode(all_chains, bw='silverman'): \n",
    "    '''Function for marginal mode estimation '''\n",
    "    mode_est = []\n",
    "    for i in range(all_chains.shape[1]):\n",
    "        kdes = az.kde(all_chains[:,i].flatten(), bw=bw)\n",
    "        mest = kdes[0][np.where(kdes[1] == max(kdes[1]))[0][0]]\n",
    "        mode_est.append(mest)\n",
    "    mode_est = np.array(mode_est)\n",
    "    return(mode_est)"
   ]
  },
  {
   "cell_type": "markdown",
   "metadata": {},
   "source": [
    "## Plot traces and diagnostics paths"
   ]
  },
  {
   "cell_type": "code",
   "execution_count": null,
   "metadata": {},
   "outputs": [],
   "source": [
    "plot_traces_tree(flat_true_tree, flat_trees, inneridx, esss, rhats, outpath = path + f'/trace-innernodes_burnin={burnin}_MCMCiter={MCMC_iter}.pdf')"
   ]
  },
  {
   "cell_type": "code",
   "execution_count": null,
   "metadata": {},
   "outputs": [],
   "source": [
    "summary_rhat(rhats, inneridx, outpath = path + f'/summary_rhat_burnin={burnin}_MCMCiter={MCMC_iter}.pdf')"
   ]
  },
  {
   "cell_type": "code",
   "execution_count": null,
   "metadata": {},
   "outputs": [],
   "source": [
    "sns.violinplot(np.array(rhats).flatten())\n",
    "plt.hlines(y=1.1, xmin=-0.5, xmax=0.5, color='red', linestyle='--')\n",
    "plt.savefig(path + f'/summary_rhat_allnodes_burnin={burnin}_MCMCiter={MCMC_iter}.pdf')"
   ]
  },
  {
   "cell_type": "markdown",
   "metadata": {},
   "source": [
    "## Plot posterior path"
   ]
  },
  {
   "cell_type": "code",
   "execution_count": null,
   "metadata": {},
   "outputs": [],
   "source": [
    "plot_posterior(flat_trees, inneridx, outpath = path + f'/posterior_samples_burnin={burnin}_MCMCiter={MCMC_iter}.pdf', flat_true_tree=flat_true_tree, sample_n=50)"
   ]
  },
  {
   "cell_type": "markdown",
   "metadata": {},
   "source": [
    "## Plot leaves "
   ]
  },
  {
   "cell_type": "code",
   "execution_count": null,
   "metadata": {},
   "outputs": [],
   "source": [
    "plot_leaves(flat_true_tree, leafidxint, outpath = path + f'/leaves_burnin={burnin}_MCMCiter={MCMC_iter}.pdf')"
   ]
  },
  {
   "cell_type": "markdown",
   "metadata": {},
   "source": [
    "## Plot parameters "
   ]
  },
  {
   "cell_type": "code",
   "execution_count": null,
   "metadata": {},
   "outputs": [],
   "source": [
    "par = pars_name[0]\n",
    "o = [np.genfromtxt(folder_runs + chains[i]+'/'+par+\"s.csv\", delimiter = \",\")[:MCMC_iter] for i in range(3)]\n",
    "o[1].shape"
   ]
  },
  {
   "cell_type": "code",
   "execution_count": null,
   "metadata": {},
   "outputs": [],
   "source": [
    "raw_pars = np.array([[np.genfromtxt(folder_runs + chains[i]+'/'+par+\"s.csv\", delimiter = \",\")[:MCMC_iter] for i in range(len(chains))] for par in pars_name])\n",
    "#raw_acceptpars = np.array([[np.genfromtxt(folder_runs + chains[i]+'/'+temp_name[i]+f\"accept{par}.csv\", delimiter = \",\") for i in range(len(chains))] for par in pars_name])\n",
    "true_pars = [np.genfromtxt(folder_simdata +p+\"_sim.csv\", delimiter = \",\") for p in pars_name]"
   ]
  },
  {
   "cell_type": "code",
   "execution_count": null,
   "metadata": {},
   "outputs": [],
   "source": [
    "pars = raw_pars[:,:,burnin:MCMC_iter]\n",
    "pars.shape\n",
    "#acceptpars = raw_acceptpars[:,:,burnin:MCMC_iter]\n",
    "#acceptance_rate = np.mean(acceptpars, axis=2) # add when neccesary information is stored "
   ]
  },
  {
   "cell_type": "code",
   "execution_count": null,
   "metadata": {},
   "outputs": [],
   "source": [
    "parsdict = dict(zip(pars_name, pars)) \n",
    "MCMC_result = parsdict \n",
    "parsres = arviz.convert_to_dataset(MCMC_result)\n",
    "rhat = arviz.rhat(parsres)\n",
    "mcse = arviz.mcse(parsres)\n",
    "ess = arviz.ess(parsres)\n",
    "arviz.summary(parsres)\n",
    "\n",
    "# save rhat for plotting\n",
    "rhats_par = np.array([rhat['kalpha'], rhat['gtheta']])\n",
    "np.savetxt(path+'/stats/'+\"rhats_pars.csv\",np.array(rhats_par), delimiter=\",\")\n",
    "\n",
    "true_vals = true_pars #[true_pars]\n",
    "keys = pars_name\n",
    "print(keys)\n",
    "print(true_vals)\n",
    "print([pars[i].shape for i in range(len(pars))])\n",
    "print(keys)"
   ]
  },
  {
   "cell_type": "code",
   "execution_count": null,
   "metadata": {},
   "outputs": [],
   "source": [
    "# EVALUATE STATISTICS FOR PLOTTING\n",
    "#ft_=flat_trees.reshape(-1, nnodes, nxd)\n",
    "pars_ = np.array([pars[0].flatten(), pars[1].flatten()])\n",
    "mean_est = np.mean(pars_, axis=1)\n",
    "median_est = np.median(pars_, axis=1)\n",
    "mode_est_sm = get_mode(pars_.T, bw='silverman') \n",
    "mode_est_isj = get_mode(pars_.T, bw='isj') \n",
    "\n",
    "# evaluate MSEs\n",
    "squared_error_mean = (true_pars-mean_est)**2\n",
    "squared_error_median = (true_pars-median_est)**2\n",
    "squared_error_mode_sm = (true_pars-mode_est_sm)**2\n",
    "squared_error_mode_isj = (true_pars-mode_est_isj)**2\n",
    "\n",
    "# evaluate bias \n",
    "bias_mean = (true_pars-mean_est)\n",
    "bias_median = (true_pars-median_est)\n",
    "bias_mode_sm = (true_pars-mode_est_sm)\n",
    "bias_mode_isj = (true_pars-mode_est_isj)\n",
    "\n",
    "# save statistics for final plots\n",
    "np.savetxt(path+'/stats/'+\"squared_error_mean_pars.csv\",squared_error_mean, delimiter=\",\")\n",
    "np.savetxt(path+'/stats/'+\"squared_error_median_pars.csv\",squared_error_median, delimiter=\",\")\n",
    "np.savetxt(path+'/stats/'+\"squared_error_mode_pars_sm.csv\",squared_error_mode_sm, delimiter=\",\")\n",
    "np.savetxt(path+'/stats/'+\"squared_error_mode_pars_isj.csv\",squared_error_mode_isj, delimiter=\",\")\n",
    "np.savetxt(path+'/stats/'+\"bias_mean_pars.csv\",bias_mean, delimiter=\",\")\n",
    "np.savetxt(path+'/stats/'+\"bias_median_pars.csv\",bias_median, delimiter=\",\")\n",
    "np.savetxt(path+'/stats/'+\"bias_mode_pars_sm.csv\",bias_mode_sm, delimiter=\",\")\n",
    "np.savetxt(path+'/stats/'+\"bias_mode_pars_isj.csv\",bias_mode_isj, delimiter=\",\")"
   ]
  },
  {
   "cell_type": "code",
   "execution_count": null,
   "metadata": {},
   "outputs": [],
   "source": [
    "keys = ['kalpha', 'gtheta']\n",
    "colors = sns.color_palette('pastel', len(chains))\n",
    "fig, axes = plt.subplots(nrows=len(keys), ncols=2, figsize=(20,10), sharex=False)\n",
    "p = 0\n",
    "for i, ax in zip(range(len(axes.flat)), axes.flat): \n",
    "        if i%2 == 0: \n",
    "            for j in range(pars[p].shape[0]): #loop over chains \n",
    "                ax.plot(pars[p][j,:], color=colors[j], alpha=0.5)\n",
    "            ax.hlines(y=true_vals[p], xmin=0, xmax=pars[p].shape[1], color='skyblue')\n",
    "            if keys[p] == 'kalpha':\n",
    "                ax.set_title(r'${\\alpha}$,'+r' $\\hat{R}$: ' + f'{round(float(np.array(rhat[keys[p]])),2)} \\n (ESS: {round(float(np.array(ess[keys[p]])),2)}) ')\n",
    "            if keys[p] == 'gtheta':\n",
    "                ax.set_title(r'${\\sigma}$,'+r' $\\hat{R}$: ' + f'{round(float(np.array(rhat[keys[p]])),2)} \\n (ESS: {round(float(np.array(ess[keys[p]])),2)}) ')\n",
    "        else:\n",
    "            for j in range(pars[p].shape[0]):\n",
    "                sns.kdeplot(pars[p][j,:], ax=ax)\n",
    "                sns.rugplot(pars[p][j,:], ax=ax)\n",
    "            ax.axvline(x = true_vals[p], ymin = 0, ymax = 1, color='orange', label='true value')\n",
    "            #ax.axvline(x = mode_est_isj[p], ymin = 0, ymax = 1, color='purple', label='isj')\n",
    "            #ax.axvline(x = mode_est_sm[p], ymin = 0, ymax = 1, color='green', label='silverman')\n",
    "            #ax.axvline(x = mean_est[p], ymin = 0, ymax = 1, color='skyblue', label='mean')     \n",
    "            #ax.axvline(x = median_est[p], ymin = 0, ymax = 1, color='grey', label='median')\n",
    "            #ax.set_title(f'{keys[p]}, rhat: {round(float(np.array(rhat[keys[p]])),2)} \\n (ESS: {round(float(np.array(ess[keys[p]])),2)}) ')#\n",
    "            if keys[p] == 'kalpha':\n",
    "                ax.set_title(r'${\\alpha}$,'+r' $\\hat{R}$: ' + f'{round(float(np.array(rhat[keys[p]])),2)} \\n (ESS: {round(float(np.array(ess[keys[p]])),2)}) ')\n",
    "            if keys[p] == 'gtheta':\n",
    "                ax.set_title(r'${\\sigma}$,'+r' $\\hat{R}$: ' + f'{round(float(np.array(rhat[keys[p]])),2)} \\n (ESS: {round(float(np.array(ess[keys[p]])),2)}) ')\n",
    "            p+=1\n",
    "            #ax.legend(loc='upper right')\n",
    "#fig.suptitle(f\"Iter: {MCMC_iter}, Burnin: {burnin} \\n\", fontsize=15)\n",
    "fig.tight_layout()\n",
    "fig.savefig(path+f'/pars_burnin={burnin}_MCMCiter={MCMC_iter}.pdf')\n",
    "\n"
   ]
  },
  {
   "cell_type": "code",
   "execution_count": null,
   "metadata": {},
   "outputs": [],
   "source": []
  },
  {
   "cell_type": "markdown",
   "metadata": {},
   "source": [
    "## Create images for plotting of posterior\n"
   ]
  },
  {
   "cell_type": "code",
   "execution_count": null,
   "metadata": {},
   "outputs": [],
   "source": [
    "\n",
    "for i in range(leaves.shape[0]): \n",
    "    leaf = leaves[i,:]\n",
    "    leafp = np.append(leaf, leaf[0:2],0)\n",
    "    plt.plot(leafp[::2], leafp[1::2], '--.', color='black', lw=2)\n",
    "    plt.ylim(-0.9,1.1)\n",
    "    plt.xlim(-1.1, 1.3)\n",
    "    plt.axis('off')\n",
    "    plt.savefig(folder_runs+f'leaves/{leafidxint[i]}.pdf')\n",
    "    plt.show()\n",
    "    "
   ]
  },
  {
   "cell_type": "code",
   "execution_count": null,
   "metadata": {},
   "outputs": [],
   "source": []
  }
 ],
 "metadata": {
  "kernelspec": {
   "display_name": "Python 3",
   "language": "python",
   "name": "python3"
  },
  "language_info": {
   "codemirror_mode": {
    "name": "ipython",
    "version": 3
   },
   "file_extension": ".py",
   "mimetype": "text/x-python",
   "name": "python",
   "nbconvert_exporter": "python",
   "pygments_lexer": "ipython3",
   "version": "3.11.10"
  }
 },
 "nbformat": 4,
 "nbformat_minor": 2
}
