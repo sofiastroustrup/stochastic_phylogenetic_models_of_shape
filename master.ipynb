{
 "cells": [
  {
   "cell_type": "markdown",
   "metadata": {},
   "source": [
    "## Master document for 30 leaves simulation study\n",
    " "
   ]
  },
  {
   "cell_type": "code",
   "execution_count": null,
   "metadata": {},
   "outputs": [],
   "source": [
    "import subprocess\n",
    "import numpy as np \n",
    "import os \n",
    "import re\n",
    "import matplotlib.pyplot as plt\n",
    "import seaborn as sns\n",
    "import pandas as pd"
   ]
  },
  {
   "cell_type": "code",
   "execution_count": null,
   "metadata": {},
   "outputs": [],
   "source": [
    "experiment = \"experiment0\"\n",
    "n_datasets = 50"
   ]
  },
  {
   "cell_type": "code",
   "execution_count": null,
   "metadata": {},
   "outputs": [],
   "source": [
    "cur_dir = os.getcwd()\n",
    "path = cur_dir +'/'+ experiment\n",
    "if not os.path.isdir(path): \n",
    "    os.makedirs(path)"
   ]
  },
  {
   "cell_type": "code",
   "execution_count": null,
   "metadata": {},
   "outputs": [],
   "source": [
    "# select uniform prior parameters\n",
    "kalpha_ppars = (0,0.3)\n",
    "ksigma_ppars = (0.1, 0.4)\n",
    "obs_var = 1e-3\n",
    "rootpath = 'shapes/Albulina_orbitulus_full-shape_n=59.csv'"
   ]
  },
  {
   "cell_type": "code",
   "execution_count": null,
   "metadata": {},
   "outputs": [],
   "source": [
    "# sample parameters \n",
    "'''subprocess.run(['python', 'sample_pars.py', \n",
    "                '-o',f'{experiment}', \n",
    "                f'-n {n_datasets}', \n",
    "                '-pkalpha1', f'{kalpha1_ppars[0]}',f'{kalpha1_ppars[1]}',\n",
    "                '-pkalpha2', f'{kalpha2_ppars[0]}',f'{kalpha2_ppars[1]}',\n",
    "                '-pksigma', f'{ksigma_ppars[0]}',f'{ksigma_ppars[1]}',\n",
    "                '-pmweight', f'{min_weight_ppars[0]}',f'{min_weight_ppars[1]}',\n",
    "                ])'''"
   ]
  },
  {
   "cell_type": "markdown",
   "metadata": {},
   "source": [
    "## Simulate data sets "
   ]
  },
  {
   "cell_type": "code",
   "execution_count": null,
   "metadata": {},
   "outputs": [],
   "source": [
    "#pars = np.genfromtxt(f'{experiment}/kalpha1_kalpha2_ksigma_min-weight.csv')\n",
    "#pars.shape"
   ]
  },
  {
   "cell_type": "code",
   "execution_count": null,
   "metadata": {},
   "outputs": [],
   "source": [
    "kalpha = 0.015\n",
    "ksigma = 0.8"
   ]
  },
  {
   "cell_type": "code",
   "execution_count": null,
   "metadata": {},
   "outputs": [],
   "source": [
    "'''for i in range(pars.shape[0]):\n",
    "  subprocess.run(['python', 'simulate_data.py', \n",
    "                '-ka1', f'{pars[i,0]}', \n",
    "                '-ka2', f'{pars[i,1]}',\n",
    "                '-ks', f'{pars[i,2]}',\n",
    "                '-mw', f'{pars[i,3]}',\n",
    "                '-ov', f'{obs_var}',\n",
    "                '-rootpath', f'{rootpath}',\n",
    "                '-o', f'{experiment}/simdata'\n",
    "                  ])'''"
   ]
  },
  {
   "cell_type": "markdown",
   "metadata": {},
   "source": [
    "## Do inference"
   ]
  },
  {
   "cell_type": "code",
   "execution_count": null,
   "metadata": {},
   "outputs": [],
   "source": [
    "# MCMC settings \n",
    "MCMC_iter=3000\n",
    "lambd = 0.9\n",
    "var_ksigma = 0.001 \n",
    "var_kalpha1 = var_kalpha2 = 0.001\n",
    "burnin=1000"
   ]
  },
  {
   "cell_type": "code",
   "execution_count": null,
   "metadata": {},
   "outputs": [],
   "source": [
    "#dataseeds = os.listdir('experiment1/simdata')\n",
    "'''subprocess.run(['python', 'mcmc.py', \n",
    "                '-N', f'{MCMC_iter}', \n",
    "                '-l', f'{lambd}',\n",
    "                '-simdata', f'{experiment}/simdata',\n",
    "                '-var_ks', f'{var_ksigma}',\n",
    "                '-var_ka1', f'{var_kalpha1}',\n",
    "                '-var_ka2', f'{var_kalpha2}',\n",
    "                '-pkalpha1', f'{kalpha1_ppars[0]}', f'{kalpha1_ppars[1]}',\n",
    "                '-pkalpha2', f'{kalpha2_ppars[0]}', f'{kalpha2_ppars[1]}',\n",
    "                '-pksigma', f'{ksigma_ppars[0]}', f'{ksigma_ppars[1]}',\n",
    "                '-ov', f'{obs_var}',\n",
    "                '-root', f'{rootpath}',\n",
    "                '-o', f'{experiment}/runs', \n",
    "                '-ds', f'{dataseeds[0]}'\n",
    "                  ])'''"
   ]
  },
  {
   "cell_type": "code",
   "execution_count": null,
   "metadata": {},
   "outputs": [],
   "source": [
    "with open (f'{experiment}.sh', 'w') as rsh:\n",
    "    rsh.write(f'''#!/bin/bash\n",
    "read seed\n",
    "              \n",
    "screen -md -S morten-hyperiax python mcmc.py -N {MCMC_iter} -l {lambd} -simdata {experiment}/simdata -var_ks {var_ksigma} -var_ka1 {var_kalpha1} -var_ka2 {var_kalpha2} -pkalpha1 {kalpha1_ppars[0]} {kalpha1_ppars[1]} -pkalpha2 {kalpha2_ppars[0]} {kalpha2_ppars[1]} -pksigma {ksigma_ppars[0]} {ksigma_ppars[1]} -ov {obs_var} -root {rootpath} -o {experiment}/runs -ds $seed\n",
    "screen -md -S morten-hyperiax python mcmc.py -N {MCMC_iter} -l {lambd} -simdata {experiment}/simdata -var_ks {var_ksigma} -var_ka1 {var_kalpha1} -var_ka2 {var_kalpha2} -pkalpha1 {kalpha1_ppars[0]} {kalpha1_ppars[1]} -pkalpha2 {kalpha2_ppars[0]} {kalpha2_ppars[1]} -pksigma {ksigma_ppars[0]} {ksigma_ppars[1]} -ov {obs_var} -root {rootpath} -o {experiment}/runs -ds $seed\n",
    "screen -md -S morten-hyperiax python mcmc.py -N {MCMC_iter} -l {lambd} -simdata {experiment}/simdata -var_ks {var_ksigma} -var_ka1 {var_kalpha1} -var_ka2 {var_kalpha2} -pkalpha1 {kalpha1_ppars[0]} {kalpha1_ppars[1]} -pkalpha2 {kalpha2_ppars[0]} {kalpha2_ppars[1]} -pksigma {ksigma_ppars[0]} {ksigma_ppars[1]} -ov {obs_var} -root {rootpath} -o {experiment}/runs -ds $seed\n",
    "\n",
    "'''\n",
    "    )"
   ]
  },
  {
   "cell_type": "markdown",
   "metadata": {},
   "source": [
    "I suggest that the line below is just submitted in the commandline and when the runs are done we continue with the diagnostics plots. "
   ]
  },
  {
   "cell_type": "code",
   "execution_count": null,
   "metadata": {},
   "outputs": [],
   "source": [
    "# on my local computer I submit runs as a for loop to not overload the computer \n",
    "datasets = os.listdir(f'{experiment}/simdata')\n",
    "print(datasets)"
   ]
  },
  {
   "cell_type": "code",
   "execution_count": null,
   "metadata": {},
   "outputs": [],
   "source": [
    "#p1 = subprocess.Popen([f'echo {datasets[0]} | ./{experiment}.sh'], shell=True)"
   ]
  },
  {
   "cell_type": "code",
   "execution_count": null,
   "metadata": {},
   "outputs": [],
   "source": [
    "#subprocess.run([f'echo {datasets[0]} | ./{experiment}.sh'], shell=True)"
   ]
  },
  {
   "cell_type": "code",
   "execution_count": null,
   "metadata": {},
   "outputs": [],
   "source": [
    "#subprocess.wait()"
   ]
  },
  {
   "cell_type": "code",
   "execution_count": null,
   "metadata": {},
   "outputs": [],
   "source": [
    "for dataset in datasets: \n",
    "    subprocess.Popen(['python', 'mcmc.py', \n",
    "                '-N', f'{MCMC_iter}', \n",
    "                '-l', f'{lambd}',\n",
    "                '-simdata', f'{experiment}/simdata',\n",
    "                '-var_ks', f'{var_ksigma}',\n",
    "                '-var_ka1', f'{var_kalpha1}',\n",
    "                '-var_ka2', f'{var_kalpha2}',\n",
    "                '-pkalpha1', f'{kalpha1_ppars[0]}', f'{kalpha1_ppars[1]}',\n",
    "                '-pkalpha2', f'{kalpha2_ppars[0]}', f'{kalpha2_ppars[1]}',\n",
    "                '-pksigma', f'{ksigma_ppars[0]}', f'{ksigma_ppars[1]}',\n",
    "                '-ov', f'{obs_var}',\n",
    "                '-root', f'{rootpath}',\n",
    "                '-o', f'{experiment}/runs', \n",
    "                '-ds', f'{dataset}'\n",
    "                  ])\n",
    "    \n",
    "    subprocess.Popen(['python', 'mcmc.py', \n",
    "                '-N', f'{MCMC_iter}', \n",
    "                '-l', f'{lambd}',\n",
    "                '-simdata', f'{experiment}/simdata',\n",
    "                '-var_ks', f'{var_ksigma}',\n",
    "                '-var_ka1', f'{var_kalpha1}',\n",
    "                '-var_ka2', f'{var_kalpha2}',\n",
    "                '-pkalpha1', f'{kalpha1_ppars[0]}', f'{kalpha1_ppars[1]}',\n",
    "                '-pkalpha2', f'{kalpha2_ppars[0]}', f'{kalpha2_ppars[1]}',\n",
    "                '-pksigma', f'{ksigma_ppars[0]}', f'{ksigma_ppars[1]}',\n",
    "                '-ov', f'{obs_var}',\n",
    "                '-root', f'{rootpath}',\n",
    "                '-o', f'{experiment}/runs', \n",
    "                '-ds', f'{dataset}'\n",
    "                  ])\n",
    "    \n",
    "    p3 = subprocess.Popen(['python', 'mcmc.py', \n",
    "                '-N', f'{MCMC_iter}', \n",
    "                '-l', f'{lambd}',\n",
    "                '-simdata', f'{experiment}/simdata',\n",
    "                '-var_ks', f'{var_ksigma}',\n",
    "                '-var_ka1', f'{var_kalpha1}',\n",
    "                '-var_ka2', f'{var_kalpha2}',\n",
    "                '-pkalpha1', f'{kalpha1_ppars[0]}', f'{kalpha1_ppars[1]}',\n",
    "                '-pkalpha2', f'{kalpha2_ppars[0]}', f'{kalpha2_ppars[1]}',\n",
    "                '-pksigma', f'{ksigma_ppars[0]}', f'{ksigma_ppars[1]}',\n",
    "                '-ov', f'{obs_var}',\n",
    "                '-root', f'{rootpath}',\n",
    "                '-o', f'{experiment}/runs', \n",
    "                '-ds', f'{dataset}'\n",
    "                  ])\n",
    "    p3.wait()\n",
    "    "
   ]
  },
  {
   "cell_type": "markdown",
   "metadata": {},
   "source": [
    "## Do diagnostics on finished runs "
   ]
  },
  {
   "cell_type": "code",
   "execution_count": null,
   "metadata": {},
   "outputs": [],
   "source": [
    "datasets = os.listdir(f'{experiment}/runs_')"
   ]
  },
  {
   "cell_type": "code",
   "execution_count": null,
   "metadata": {},
   "outputs": [],
   "source": [
    "for ds in datasets:\n",
    "  subprocess.run(['python', 'diagnostics.py', \n",
    "                '-folder_runs', f'{experiment}/runs_/{ds}', \n",
    "                '-folder_simdata', f'{experiment}/simdata/{ds}',\n",
    "                '-MCMC_iter', f'{MCMC_iter}',\n",
    "                '-burnin', f'{burnin}'\n",
    "                  ])"
   ]
  },
  {
   "cell_type": "markdown",
   "metadata": {},
   "source": [
    "## Final results "
   ]
  },
  {
   "cell_type": "code",
   "execution_count": null,
   "metadata": {},
   "outputs": [],
   "source": [
    "_folder = f'{experiment}/runs'\n",
    "reg = re.compile('^_')\n",
    "bfolder = os.listdir(_folder)\n",
    "bfolder_ignore = ['.DS_Store']\n",
    "[bfolder.remove(bi) for bi in bfolder_ignore if bi in bfolder] # ignore specific files\n",
    "print(bfolder)\n",
    "\n",
    "datasets = []\n",
    "rhats_pars = []\n",
    "bias_mean_pars = []\n",
    "bias_mode_pars = []\n",
    "bias_median_pars = []\n",
    "all_kalpha1s = []\n",
    "all_kalpha2s = []\n",
    "all_ksigmas = []\n",
    "\n",
    "for subfolder in bfolder:\n",
    "    all_kalpha1s.append(np.genfromtxt(f'{experiment}/simdata/{subfolder}/k_alpha1.csv'))\n",
    "    all_kalpha2s.append(np.genfromtxt(f'{experiment}/simdata/{subfolder}/k_alpha2.csv'))\n",
    "    all_ksigmas.append(np.genfromtxt(f'{experiment}/simdata/{subfolder}/k_sigma.csv'))\n",
    "\n",
    "    print(subfolder)\n",
    "    datasets.append(str(subfolder))\n",
    "    _subsubfolder = [x for x in os.listdir(_folder+'/'+subfolder) if bool(reg.match(x))]\n",
    "    subsubfolder = [x for x in _subsubfolder if x not in ['.DS_Store']]\n",
    "    #print(subsubfolder)\n",
    "    print(subsubfolder)\n",
    "    bfolder = subsubfolder[0]\n",
    "    #print(bfolder)\n",
    "    folder = _folder+'/'+subfolder+\"/\"+bfolder+'/'\n",
    "    print(folder)\n",
    "\n",
    "    bias_mean_pars.append(np.genfromtxt(folder+'bias_mean_pars.csv', delimiter=','))\n",
    "    bias_mode_pars.append(np.genfromtxt(folder+'bias_mode_sm_pars.csv', delimiter=','))\n",
    "    bias_median_pars.append(np.genfromtxt(folder+'bias_median_pars.csv', delimiter=','))\n",
    "\n",
    "    crhats = np.genfromtxt(folder+'rhats_pars.csv', delimiter=',')\n",
    "    if np.amax(np.array(crhats))>1.15:\n",
    "        print(\"*!!!!POSSIBLY NOT CONVERGED\")\n",
    "        print(f\"max: {np.amax(np.array(crhats))}\")\n",
    "        print(crhats)\n",
    "    rhats_pars.append(crhats)\n",
    "\n",
    "\n",
    "all_rhats_pars = np.array(rhats_pars) #data seeds x nnodes x dimensions\n",
    "all_bias_mean_pars = np.array(bias_mean_pars)\n",
    "all_bias_mode_pars = np.array(bias_mode_pars)\n",
    "all_bias_median_pars = np.array(bias_median_pars)\n",
    "\n",
    "n = all_rhats_pars.shape[0]\n",
    "\n"
   ]
  },
  {
   "cell_type": "code",
   "execution_count": null,
   "metadata": {},
   "outputs": [],
   "source": [
    "# plot rhat distribution \n",
    "fig, axes = plt.subplots(nrows=1, ncols=3, figsize= (20,5), sharey=True)\n",
    "for i, ax in zip(range(len(axes.flat)), axes.flat): \n",
    "    ax.hist(all_rhats_pars[:,i])"
   ]
  },
  {
   "cell_type": "code",
   "execution_count": null,
   "metadata": {},
   "outputs": [],
   "source": [
    "# plot bias of parameter estimation for mode, mean and median \n",
    "# pars \n",
    "_bias_mean_pars =np.mean(all_bias_mean_pars, axis=0).flatten() # we select only bias calculations from innernodes \n",
    "_bias_median_pars =np.mean(all_bias_median_pars, axis=0).flatten() \n",
    "_bias_mode_pars =np.mean(all_bias_mode_pars, axis=0).flatten() \n",
    "\n",
    "# get mean \n",
    "mean_true_kalpha1 = np.mean(all_kalpha1s)\n",
    "mean_true_kalpha2 = np.mean(all_kalpha2s)\n",
    "mean_true_ksigma = np.mean(all_ksigmas)\n",
    "\n",
    "bias_pars = pd.DataFrame({\n",
    "    'bias':np.array([all_bias_mean_pars.flatten(),all_bias_median_pars.flatten(), all_bias_mode_pars.flatten()]).flatten(), \n",
    "    'estimator':['mean']*len(all_bias_mean_pars.flatten())+['median']*len(all_bias_median_pars.flatten())+['mode']*len(all_bias_median_pars.flatten()), \n",
    "    'mean_true_pars':[mean_true_kalpha1, mean_true_kalpha2, mean_true_ksigma]*len(all_bias_mean_pars)+[mean_true_kalpha1, mean_true_kalpha2, mean_true_ksigma]*len(all_bias_mean_pars)+[mean_true_kalpha1, mean_true_kalpha2, mean_true_ksigma]*len(all_bias_mean_pars),\n",
    "    'type': ['k_alpha1','k_alpha2', 'sigma']*len(all_bias_mean_pars)+['k_alpha1','k_alpha2', 'sigma']*len(all_bias_mean_pars)+['k_alpha1','k_alpha2', 'sigma']*len(all_bias_mean_pars)\n",
    "    })\n",
    "\n",
    "bias_pars['bias/mean'] = bias_pars.apply(lambda row: row.bias/row.mean_true_pars, axis=1)"
   ]
  },
  {
   "cell_type": "code",
   "execution_count": null,
   "metadata": {},
   "outputs": [],
   "source": [
    "fig, ax = plt.subplots(nrows=1, ncols=3, figsize= (15,5), sharey=True)\n",
    "\n",
    "sns.pointplot(data=bias_pars.loc[bias_pars['type']=='k_alpha1'], x='estimator', \n",
    "                    y='bias/mean', linestyle='', \n",
    "                    errorbar=('ci', 95), \n",
    "                    palette=['orange', 'purple', 'steelblue'],\n",
    "                    capsize=0.03, ax=ax[0])\n",
    "ax[0].set_title(r'$k_{\\alpha}^1$')\n",
    "left, right = plt.xlim()\n",
    "ax[0].hlines(0, xmin=left-0.5, xmax=right+1.5, color='g', linestyles='--')\n",
    "ax[0].xaxis.label.set_visible(False)\n",
    "\n",
    "sns.pointplot(data=bias_pars.loc[bias_pars['type']=='k_alpha2'], x='estimator', \n",
    "                    y='bias/mean', linestyle='', \n",
    "                    errorbar=('ci', 95), \n",
    "                    palette=['orange', 'purple', 'steelblue'],\n",
    "                    capsize=0.03, ax=ax[1])\n",
    "ax[1].set_title(r'$k_{\\alpha}^2$')\n",
    "ax[1].hlines(0, xmin=left-0.5, xmax=right+1.5, color='g', linestyles='--')\n",
    "ax[1].xaxis.label.set_visible(False)\n",
    "\n",
    "sns.pointplot(data=bias_pars.loc[bias_pars['type']=='sigma'], x='estimator', \n",
    "                    y='bias/mean', linestyle='', \n",
    "                    errorbar=('ci', 95), \n",
    "                    palette=['orange', 'purple', 'steelblue'],\n",
    "                    capsize=0.03, ax=ax[2])\n",
    "ax[2].set_title(r'$\\sigma$')\n",
    "ax[2].hlines(0, xmin=left-0.5, xmax=right+1.5, color='g', linestyles='--')\n",
    "ax[2].xaxis.label.set_visible(False)\n",
    "\n",
    "plt.suptitle(f'Bias for parameters (n={n})')\n",
    "#plt.savefig(_folder + f'/figures/bias_pars_true.pdf')  "
   ]
  },
  {
   "cell_type": "code",
   "execution_count": null,
   "metadata": {},
   "outputs": [],
   "source": [
    "p"
   ]
  },
  {
   "cell_type": "markdown",
   "metadata": {},
   "source": [
    "## Look at parameter combinations for converged and not converged runs"
   ]
  },
  {
   "cell_type": "code",
   "execution_count": null,
   "metadata": {},
   "outputs": [],
   "source": [
    "not_converged_datasets = os.listdir(f'{experiment}/not_converged')\n",
    "converged_datasets = os.listdir(f'{experiment}/runs')"
   ]
  },
  {
   "cell_type": "code",
   "execution_count": null,
   "metadata": {},
   "outputs": [],
   "source": [
    "nc_kalpha1 = [np.genfromtxt(f'{experiment}/simdata/{dataset}/k_alpha1.csv') for dataset in not_converged_datasets]\n",
    "nc_kalpha2 = [np.genfromtxt(f'{experiment}/simdata/{dataset}/k_alpha2.csv') for dataset in not_converged_datasets]\n",
    "nc_ksigma = [np.genfromtxt(f'{experiment}/simdata/{dataset}/k_sigma.csv') for dataset in not_converged_datasets]\n",
    "nc_min_weight = [np.genfromtxt(f'{experiment}/simdata/{dataset}/min_weight.csv') for dataset in not_converged_datasets]\n",
    "min_weights = [np.genfromtxt(f'{experiment}/simdata/{dataset}/min_weight.csv') for dataset in converged_datasets]"
   ]
  },
  {
   "cell_type": "code",
   "execution_count": null,
   "metadata": {},
   "outputs": [],
   "source": [
    "print(nc_kalpha1)\n",
    "print(nc_kalpha2)\n",
    "print(nc_ksigma)\n",
    "print(nc_min_weight)"
   ]
  },
  {
   "cell_type": "code",
   "execution_count": null,
   "metadata": {},
   "outputs": [],
   "source": [
    "# plot af alle parameter kombinationer vi har brugt \n",
    "print(all_kalpha1s)\n",
    "print(all_kalpha2s)\n",
    "print(all_ksigmas)\n",
    "print(min_weights)"
   ]
  },
  {
   "cell_type": "code",
   "execution_count": null,
   "metadata": {},
   "outputs": [],
   "source": []
  }
 ],
 "metadata": {
  "kernelspec": {
   "display_name": "env",
   "language": "python",
   "name": "python3"
  },
  "language_info": {
   "codemirror_mode": {
    "name": "ipython",
    "version": 3
   },
   "file_extension": ".py",
   "mimetype": "text/x-python",
   "name": "python",
   "nbconvert_exporter": "python",
   "pygments_lexer": "ipython3",
   "version": "3.12.4"
  }
 },
 "nbformat": 4,
 "nbformat_minor": 2
}
