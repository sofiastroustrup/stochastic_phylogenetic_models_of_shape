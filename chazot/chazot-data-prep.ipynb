{
 "cells": [
  {
   "cell_type": "code",
   "execution_count": null,
   "metadata": {},
   "outputs": [],
   "source": []
  },
  {
   "cell_type": "code",
   "execution_count": 1,
   "metadata": {},
   "outputs": [],
   "source": [
    "import pandas as pd\n",
    "import matplotlib.pyplot as plt\n",
    "import numpy as np"
   ]
  },
  {
   "cell_type": "markdown",
   "metadata": {},
   "source": [
    "# Chazot data prep"
   ]
  },
  {
   "cell_type": "code",
   "execution_count": 5,
   "metadata": {},
   "outputs": [
    {
     "name": "stdout",
     "output_type": "stream",
     "text": [
      "['absoloni' 'achilles' 'aega' 'amathonte' 'amphitryon' 'anaxibia' 'aurora'\n",
      " 'cisseis' 'cypris' 'deidamia' 'epistrophus' 'eugenia' 'godartii'\n",
      " 'granadensis' 'hecuba' 'helenor' 'hercules' 'iphitus' 'lympharis'\n",
      " 'marcus' 'menelaus' 'niepelti' 'polyphemus' 'portis' 'rhetenor'\n",
      " 'rhodopteron' 'sulkowskyi' 'telemachus' 'theseus' 'zephyritis']\n"
     ]
    },
    {
     "data": {
      "text/plain": [
       "(array([ 0,  1,  2,  3,  4,  5,  6,  7,  8,  9, 10, 11, 12, 13, 14, 15, 16,\n",
       "        17, 18, 19, 20, 21, 22, 23, 24, 25, 26, 27]),)"
      ]
     },
     "execution_count": 5,
     "metadata": {},
     "output_type": "execute_result"
    }
   ],
   "source": [
    "wing = 'forewing'\n",
    "rootfile = f'shapes/Morpho_{wing}_procCoor.txt' \n",
    "rootdata =  pd.read_csv(rootfile, sep=\"\\t\", index_col=False)\n",
    "print(np.unique(rootdata.species))\n",
    "np.where(rootdata.species=='hercules')"
   ]
  },
  {
   "cell_type": "code",
   "execution_count": null,
   "metadata": {},
   "outputs": [],
   "source": [
    "# pick one wing arbitrarily \n",
    "selected = rootdata.iloc[0,:]\n",
    "selected.loc['ProcCoord1'::] = selected.loc['ProcCoord1'::]*5\n",
    "species = selected.species\n",
    "print(species)\n",
    "root = np.array(selected.iloc[8::])"
   ]
  },
  {
   "cell_type": "markdown",
   "metadata": {},
   "source": [
    "# Visualize variance in data "
   ]
  },
  {
   "cell_type": "markdown",
   "metadata": {},
   "source": []
  }
 ],
 "metadata": {
  "kernelspec": {
   "display_name": "man1",
   "language": "python",
   "name": "python3"
  },
  "language_info": {
   "codemirror_mode": {
    "name": "ipython",
    "version": 3
   },
   "file_extension": ".py",
   "mimetype": "text/x-python",
   "name": "python",
   "nbconvert_exporter": "python",
   "pygments_lexer": "ipython3",
   "version": "3.12.7"
  }
 },
 "nbformat": 4,
 "nbformat_minor": 2
}
